{
 "cells": [
  {
   "cell_type": "code",
   "execution_count": 11,
   "id": "83c22340-e249-4ab6-af2c-2aa4217961d2",
   "metadata": {
    "tags": []
   },
   "outputs": [
    {
     "name": "stdin",
     "output_type": "stream",
     "text": [
      "Enter the number to check:  16\n",
      "Enter the base:  2\n"
     ]
    },
    {
     "name": "stdout",
     "output_type": "stream",
     "text": [
      "True\n"
     ]
    }
   ],
   "source": [
    "def is_power(number, base):\n",
    "    # Check for edge cases\n",
    "    if base <= 1:\n",
    "        return number == 1  # Only 1 is a power of any base <= 1\n",
    "    if number < 1:\n",
    "        return False  # Powers of positive integers are always >= 1\n",
    "\n",
    "    # Keep dividing 'number' by 'base'\n",
    "    while number > 1:\n",
    "        if number % base != 0:  # If 'number' is not divisible by 'base'\n",
    "            return False\n",
    "        number //= base  # Divide 'number' by 'base'\n",
    "\n",
    "    return number == 1  # If we reduced 'number' to 1, it's a power of 'base'\n",
    "\n",
    "# User input for the number and base\n",
    "number_input = input(\"Enter the number to check: \")\n",
    "base_input = input(\"Enter the base: \")\n",
    "\n",
    "# Check if inputs are valid integers\n",
    "if number_input.isdigit() and base_input.isdigit():\n",
    "    number = int(number_input)\n",
    "    base = int(base_input)\n",
    "\n",
    "    # Call the is_power function and print the result\n",
    "    result = is_power(number, base)\n",
    "    print(result)  # Output will be True or False\n",
    "else:\n",
    "    print(\"Please enter valid positive integers.\")"
   ]
  },
  {
   "cell_type": "code",
   "execution_count": null,
   "id": "030e3a58-f049-43b5-9891-2c9cf613a1cc",
   "metadata": {},
   "outputs": [],
   "source": []
  },
  {
   "cell_type": "code",
   "execution_count": null,
   "id": "cc7b57a0-d8c9-4435-a6e4-c18fb6471844",
   "metadata": {},
   "outputs": [],
   "source": []
  }
 ],
 "metadata": {
  "kernelspec": {
   "display_name": "Python 3 (ipykernel)",
   "language": "python",
   "name": "python3"
  },
  "language_info": {
   "codemirror_mode": {
    "name": "ipython",
    "version": 3
   },
   "file_extension": ".py",
   "mimetype": "text/x-python",
   "name": "python",
   "nbconvert_exporter": "python",
   "pygments_lexer": "ipython3",
   "version": "3.10.9"
  }
 },
 "nbformat": 4,
 "nbformat_minor": 5
}
